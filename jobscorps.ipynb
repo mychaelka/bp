{
 "cells": [
  {
   "cell_type": "code",
   "execution_count": 17,
   "metadata": {},
   "outputs": [],
   "source": [
    "import numpy as np\n",
    "import doubleml as dml\n",
    "import pandas as pd\n",
    "import statsmodels.api as sm\n",
    "import statsmodels.formula.api as smf\n",
    "from doubleml.datasets import make_pliv_CHS2015\n",
    "from sklearn.ensemble import RandomForestClassifier, RandomForestRegressor\n",
    "from sklearn.base import clone\n",
    "from doubleml import DoubleMLData\n",
    "from doubleml.double_ml_samplesel import DoubleMLSS\n",
    "from doubleml.double_ml_selection import DoubleMLS\n",
    "\n",
    "from sklearn.linear_model import LassoCV\n",
    "\n",
    "from doubleml.double_ml import DoubleML\n",
    "from doubleml.double_ml_data import DoubleMLData"
   ]
  },
  {
   "cell_type": "markdown",
   "metadata": {},
   "source": [
    "## Load data"
   ]
  },
  {
   "cell_type": "code",
   "execution_count": 18,
   "metadata": {},
   "outputs": [
    {
     "data": {
      "text/html": [
       "<div>\n",
       "<style scoped>\n",
       "    .dataframe tbody tr th:only-of-type {\n",
       "        vertical-align: middle;\n",
       "    }\n",
       "\n",
       "    .dataframe tbody tr th {\n",
       "        vertical-align: top;\n",
       "    }\n",
       "\n",
       "    .dataframe thead th {\n",
       "        text-align: right;\n",
       "    }\n",
       "</style>\n",
       "<table border=\"1\" class=\"dataframe\">\n",
       "  <thead>\n",
       "    <tr style=\"text-align: right;\">\n",
       "      <th></th>\n",
       "      <th>treat</th>\n",
       "      <th>emply4</th>\n",
       "      <th>jcmsa_1</th>\n",
       "      <th>jcmsa_2</th>\n",
       "      <th>age</th>\n",
       "      <th>race_eth_1</th>\n",
       "      <th>race_eth_2</th>\n",
       "      <th>race_eth_3</th>\n",
       "      <th>ntv_lang_1</th>\n",
       "      <th>ntv_lang_2</th>\n",
       "      <th>...</th>\n",
       "      <th>st_hwh97</th>\n",
       "      <th>st_hwh98</th>\n",
       "      <th>st_hwh99</th>\n",
       "      <th>st_hwh100</th>\n",
       "      <th>st_hwh101</th>\n",
       "      <th>st_hwh102</th>\n",
       "      <th>st_hwh103</th>\n",
       "      <th>st_hwh104</th>\n",
       "      <th>hourwag_52</th>\n",
       "      <th>hourwag_y4</th>\n",
       "    </tr>\n",
       "  </thead>\n",
       "  <tbody>\n",
       "    <tr>\n",
       "      <th>0</th>\n",
       "      <td>13</td>\n",
       "      <td>-1</td>\n",
       "      <td>0</td>\n",
       "      <td>1</td>\n",
       "      <td>0.357121</td>\n",
       "      <td>0</td>\n",
       "      <td>0</td>\n",
       "      <td>1</td>\n",
       "      <td>0</td>\n",
       "      <td>0</td>\n",
       "      <td>...</td>\n",
       "      <td>-0.425291</td>\n",
       "      <td>-0.426362</td>\n",
       "      <td>-0.428669</td>\n",
       "      <td>-0.429545</td>\n",
       "      <td>-0.433552</td>\n",
       "      <td>-0.432121</td>\n",
       "      <td>-0.436146</td>\n",
       "      <td>-0.438621</td>\n",
       "      <td>0.0</td>\n",
       "      <td>0.000000</td>\n",
       "    </tr>\n",
       "    <tr>\n",
       "      <th>1</th>\n",
       "      <td>0</td>\n",
       "      <td>1</td>\n",
       "      <td>0</td>\n",
       "      <td>0</td>\n",
       "      <td>1.319299</td>\n",
       "      <td>0</td>\n",
       "      <td>1</td>\n",
       "      <td>0</td>\n",
       "      <td>0</td>\n",
       "      <td>0</td>\n",
       "      <td>...</td>\n",
       "      <td>0.507288</td>\n",
       "      <td>0.502377</td>\n",
       "      <td>0.504842</td>\n",
       "      <td>0.498681</td>\n",
       "      <td>0.497172</td>\n",
       "      <td>-0.432121</td>\n",
       "      <td>0.182607</td>\n",
       "      <td>0.181539</td>\n",
       "      <td>0.0</td>\n",
       "      <td>7.007009</td>\n",
       "    </tr>\n",
       "    <tr>\n",
       "      <th>2</th>\n",
       "      <td>31</td>\n",
       "      <td>1</td>\n",
       "      <td>0</td>\n",
       "      <td>1</td>\n",
       "      <td>-0.169031</td>\n",
       "      <td>0</td>\n",
       "      <td>0</td>\n",
       "      <td>0</td>\n",
       "      <td>0</td>\n",
       "      <td>0</td>\n",
       "      <td>...</td>\n",
       "      <td>-0.425291</td>\n",
       "      <td>-0.426362</td>\n",
       "      <td>-0.428669</td>\n",
       "      <td>-0.429545</td>\n",
       "      <td>-0.433552</td>\n",
       "      <td>-0.432121</td>\n",
       "      <td>-0.436146</td>\n",
       "      <td>-0.438621</td>\n",
       "      <td>6.5</td>\n",
       "      <td>7.618556</td>\n",
       "    </tr>\n",
       "    <tr>\n",
       "      <th>3</th>\n",
       "      <td>0</td>\n",
       "      <td>1</td>\n",
       "      <td>0</td>\n",
       "      <td>0</td>\n",
       "      <td>-0.622194</td>\n",
       "      <td>0</td>\n",
       "      <td>0</td>\n",
       "      <td>0</td>\n",
       "      <td>0</td>\n",
       "      <td>0</td>\n",
       "      <td>...</td>\n",
       "      <td>0.351858</td>\n",
       "      <td>0.347587</td>\n",
       "      <td>-0.428669</td>\n",
       "      <td>-0.429545</td>\n",
       "      <td>-0.433552</td>\n",
       "      <td>-0.432121</td>\n",
       "      <td>-0.436146</td>\n",
       "      <td>-0.438621</td>\n",
       "      <td>5.7</td>\n",
       "      <td>6.787174</td>\n",
       "    </tr>\n",
       "    <tr>\n",
       "      <th>4</th>\n",
       "      <td>0</td>\n",
       "      <td>1</td>\n",
       "      <td>0</td>\n",
       "      <td>0</td>\n",
       "      <td>-0.128411</td>\n",
       "      <td>0</td>\n",
       "      <td>1</td>\n",
       "      <td>0</td>\n",
       "      <td>0</td>\n",
       "      <td>0</td>\n",
       "      <td>...</td>\n",
       "      <td>-0.425291</td>\n",
       "      <td>-0.426362</td>\n",
       "      <td>-0.428669</td>\n",
       "      <td>-0.429545</td>\n",
       "      <td>-0.433552</td>\n",
       "      <td>-0.432121</td>\n",
       "      <td>-0.436146</td>\n",
       "      <td>-0.438621</td>\n",
       "      <td>0.0</td>\n",
       "      <td>5.137620</td>\n",
       "    </tr>\n",
       "  </tbody>\n",
       "</table>\n",
       "<p>5 rows × 1336 columns</p>\n",
       "</div>"
      ],
      "text/plain": [
       "   treat  emply4  jcmsa_1  jcmsa_2       age  race_eth_1  race_eth_2  \\\n",
       "0     13      -1        0        1  0.357121           0           0   \n",
       "1      0       1        0        0  1.319299           0           1   \n",
       "2     31       1        0        1 -0.169031           0           0   \n",
       "3      0       1        0        0 -0.622194           0           0   \n",
       "4      0       1        0        0 -0.128411           0           1   \n",
       "\n",
       "   race_eth_3  ntv_lang_1  ntv_lang_2  ...  st_hwh97  st_hwh98  st_hwh99  \\\n",
       "0           1           0           0  ... -0.425291 -0.426362 -0.428669   \n",
       "1           0           0           0  ...  0.507288  0.502377  0.504842   \n",
       "2           0           0           0  ... -0.425291 -0.426362 -0.428669   \n",
       "3           0           0           0  ...  0.351858  0.347587 -0.428669   \n",
       "4           0           0           0  ... -0.425291 -0.426362 -0.428669   \n",
       "\n",
       "   st_hwh100  st_hwh101  st_hwh102  st_hwh103  st_hwh104  hourwag_52  \\\n",
       "0  -0.429545  -0.433552  -0.432121  -0.436146  -0.438621         0.0   \n",
       "1   0.498681   0.497172  -0.432121   0.182607   0.181539         0.0   \n",
       "2  -0.429545  -0.433552  -0.432121  -0.436146  -0.438621         6.5   \n",
       "3  -0.429545  -0.433552  -0.432121  -0.436146  -0.438621         5.7   \n",
       "4  -0.429545  -0.433552  -0.432121  -0.436146  -0.438621         0.0   \n",
       "\n",
       "   hourwag_y4  \n",
       "0    0.000000  \n",
       "1    7.007009  \n",
       "2    7.618556  \n",
       "3    6.787174  \n",
       "4    5.137620  \n",
       "\n",
       "[5 rows x 1336 columns]"
      ]
     },
     "execution_count": 18,
     "metadata": {},
     "output_type": "execute_result"
    }
   ],
   "source": [
    "data = pd.read_csv(\"./data_JC.csv\")\n",
    "data.head()"
   ]
  },
  {
   "cell_type": "markdown",
   "metadata": {},
   "source": [
    "#######################################\n",
    "### EVALUATION OF ACADEMIC TRAINING ###\n",
    "#######################################"
   ]
  },
  {
   "cell_type": "code",
   "execution_count": 19,
   "metadata": {},
   "outputs": [
    {
     "name": "stdout",
     "output_type": "stream",
     "text": [
      "0\n"
     ]
    },
    {
     "name": "stderr",
     "output_type": "stream",
     "text": [
      "/tmp/ipykernel_293930/1468549734.py:6: SettingWithCopyWarning: \n",
      "A value is trying to be set on a copy of a slice from a DataFrame.\n",
      "Try using .loc[row_indexer,col_indexer] = value instead\n",
      "\n",
      "See the caveats in the documentation: https://pandas.pydata.org/pandas-docs/stable/user_guide/indexing.html#returning-a-view-versus-a-copy\n",
      "  subsample['d'] = None\n"
     ]
    }
   ],
   "source": [
    "# Selection into treatment/control status for the female group\n",
    "subsampleF = data[data['female'] == 1]\n",
    "subsample = subsampleF[subsampleF['treat'].isin([11, 12, 13, 21, 22, 23])]\n",
    "\n",
    "# Selection into treatment\n",
    "subsample['d'] = None\n",
    "subsample.loc[subsample['treat'].isin([21, 22, 23]), 'd'] = 1\n",
    "subsample.loc[subsample['treat'].isin([11, 12, 13]), 'd'] = 0\n",
    "print(subsample['d'].isna().sum())\n",
    "\n",
    "# Splitting by treatment\n",
    "T1 = subsample[subsample['d'] == 1]\n",
    "T0 = subsample[subsample['d'] == 0]"
   ]
  },
  {
   "cell_type": "code",
   "execution_count": 20,
   "metadata": {},
   "outputs": [
    {
     "name": "stdout",
     "output_type": "stream",
     "text": [
      "Mean (workh52_0) for treatment group:  0.3072289156626506 \n",
      " Standard Deviation (workh52_0) for treatment group:  0.4616232785224906\n",
      "Mean (workh52_0) for control group:  0.335 \n",
      " Standard Deviation (workh52_0) for control group:  0.4731748855991927\n",
      "Mean (hourwag_52):  1.6686438544660196 \n",
      " Standard Deviation (hourwag_52):  2.9278099018848307\n",
      "Mean (workh52_0):  0.312621359223301 \n",
      " Standard Deviation (workh52_0):  0.46378667301484416\n"
     ]
    }
   ],
   "source": [
    "print(\"Mean (workh52_0) for treatment group: \", T1['workh52_0'].mean(), '\\n',\n",
    "      \"Standard Deviation (workh52_0) for treatment group: \", T1['workh52_0'].std())\n",
    "print(\"Mean (workh52_0) for control group: \", T0['workh52_0'].mean(), '\\n',\n",
    "      \"Standard Deviation (workh52_0) for control group: \", T0['workh52_0'].std())\n",
    "\n",
    "print(\"Mean (hourwag_52): \", subsample['hourwag_52'].mean(), '\\n',\n",
    "      \"Standard Deviation (hourwag_52): \", subsample['hourwag_52'].std())\n",
    "print(\"Mean (workh52_0): \", subsample['workh52_0'].mean(), '\\n',\n",
    "      \"Standard Deviation (workh52_0): \", subsample['workh52_0'].std())"
   ]
  },
  {
   "cell_type": "code",
   "execution_count": 21,
   "metadata": {},
   "outputs": [
    {
     "name": "stdout",
     "output_type": "stream",
     "text": [
      "                            OLS Regression Results                            \n",
      "==============================================================================\n",
      "Dep. Variable:                      s   R-squared:                       0.001\n",
      "Model:                            OLS   Adj. R-squared:                 -0.000\n",
      "Method:                 Least Squares   F-statistic:                    0.5776\n",
      "Date:                Fri, 16 Feb 2024   Prob (F-statistic):              0.447\n",
      "Time:                        12:05:49   Log-Likelihood:                -669.34\n",
      "No. Observations:                1030   AIC:                             1343.\n",
      "Df Residuals:                    1028   BIC:                             1353.\n",
      "Df Model:                           1                                         \n",
      "Covariance Type:            nonrobust                                         \n",
      "==============================================================================\n",
      "                 coef    std err          t      P>|t|      [0.025      0.975]\n",
      "------------------------------------------------------------------------------\n",
      "Intercept      0.3350      0.033     10.213      0.000       0.271       0.399\n",
      "d[T.1]        -0.0278      0.037     -0.760      0.447      -0.099       0.044\n",
      "==============================================================================\n",
      "Omnibus:                     6985.790   Durbin-Watson:                   2.021\n",
      "Prob(Omnibus):                  0.000   Jarque-Bera (JB):              189.634\n",
      "Skew:                           0.808   Prob(JB):                     6.63e-42\n",
      "Kurtosis:                       1.655   Cond. No.                         4.33\n",
      "==============================================================================\n",
      "\n",
      "Notes:\n",
      "[1] Standard Errors assume that the covariance matrix of the errors is correctly specified.\n"
     ]
    },
    {
     "name": "stderr",
     "output_type": "stream",
     "text": [
      "/tmp/ipykernel_293930/3858797875.py:2: SettingWithCopyWarning: \n",
      "A value is trying to be set on a copy of a slice from a DataFrame.\n",
      "Try using .loc[row_indexer,col_indexer] = value instead\n",
      "\n",
      "See the caveats in the documentation: https://pandas.pydata.org/pandas-docs/stable/user_guide/indexing.html#returning-a-view-versus-a-copy\n",
      "  subsample['s'] = subsample['workh52_0']\n",
      "/tmp/ipykernel_293930/3858797875.py:3: SettingWithCopyWarning: \n",
      "A value is trying to be set on a copy of a slice from a DataFrame.\n",
      "Try using .loc[row_indexer,col_indexer] = value instead\n",
      "\n",
      "See the caveats in the documentation: https://pandas.pydata.org/pandas-docs/stable/user_guide/indexing.html#returning-a-view-versus-a-copy\n",
      "  subsample['y'] = subsample['hourwag_52']\n"
     ]
    }
   ],
   "source": [
    "# Selection into employment by treatment status\n",
    "subsample['s'] = subsample['workh52_0']\n",
    "subsample['y'] = subsample['hourwag_52']\n",
    "\n",
    "# Selection into employment by treatment - Linear Regression\n",
    "relation = smf.ols('s ~ d', data=subsample).fit()\n",
    "print(relation.summary())"
   ]
  },
  {
   "cell_type": "code",
   "execution_count": 22,
   "metadata": {},
   "outputs": [],
   "source": [
    "columns = [\"jcmsa_1\", \"jcmsa_2\", \"age\", \"race_eth_1\", \"race_eth_2\", \"race_eth_3\",\"ntv_lang_1\", \"ntv_lang_2\", \"hh14_1\", \"hh14_2\", \n",
    "                       \"hh14_3\", \"hh14_4\", \"welf_kid_1\", \"welf_kid_2\", \"welf_kid_3\", \"m_work14_0\", \n",
    "                       \"occ_moth_1\",\"occ_moth_2\", \"occ_moth_3\", \"occ_moth_4\", \"occ_moth_5\", \"occ_moth_6\", \"occ_fath_1\", \"occ_fath_2\", \"occ_fath_3\", \"occ_fath_5\", \n",
    "                       \"occ_fath_6\", \"occ_fath_7\", \"marriage_1\", \"marriage_2\", \"marriage_3\", \"haschld_0\", \"proplive_1\", \"proplive_2\", \"pregn_ra_1\", \"pregn_ra_2\", \"old\", \n",
    "                       \"yng\", \"othwith_1\", \"othwith_2\", \"othwith_3\", \"othwith_4\", \"ageparnt\", \"numb_hh\", \"r_head_0\", \"hhmemb_1\", \"hhmemb_2\", \"hhmemb_3\", \n",
    "                       \"hhmemb_4\", \"hhmemb_5\", \"hous_arr_1\", \"hous_arr_2\", \"hous_arr_3\", \"pay_rent_0\", \"hgc\", \"hgc_moth\", \"hgc_fath\", \"hs_d_0\", \"ged_d_0\", \"voc_d_0\", \n",
    "                       \"oth_deg_0\", \"inschool_0\", \"any_ed1_0\", \"n_ed_cat_1\", \"n_ed_cat_2\", \"monined\", \"reasleft_1\", \"reasleft_2\", \"reasleft_3\", \"reasleft_4\", \"reasleft_5\", \n",
    "                       \"reasleft_6\", \"reasleft_7\", \"reasleft_8\", \"rec_ed_1\",  \"rec_ed_2\", \"rec_ed_3\", \"rec_ed_4\", \"rec_ed_5\", \"rec_ed_6\", \"rec_ed_7\", \"typeed_r_1\", \"typeed_r_2\", \n",
    "                       \"typeed_r_3\", \"typeed_r_4\", \"typeed_r_5\", \"typeed_r_6\", \"nhrsed_r\", \"reased_r_1\", \"numbjobs\", \"evworkb_0\", \"yr_work1_0\", \n",
    "                       \"earn_yr\", \"mosinjob\", \"rec_job_1\",\"rec_job_2\", \"rec_job_3\", \"rec_job_4\", \"occ_r_1\", \"occ_r_2\", \"occ_r_3\", \"occ_r_4\", \"occ_r_5\", \"occ_r_6\", \"occ_r_7\", \"occ_r_8\", \n",
    "                       \"hrswk_jr\", \"hrwager\", \"coop_r_0\", \"govprg_r_0\", \"leftjobr_0\", \"rslftjr_1\", \"rslftjr_2\", \"rslftjr_3\", \"rslftjr_4\", \"rslftjr_5\", \"rslftjr_6\", \"rslftjr_7\", \n",
    "                       \"rslftjr_8\", \"mos_afdc\", \"mos_othw\", \"mos_fs\", \"got_anyw_0\", \"mos_anyw\", \"gotafdc1_0\", \"gotothw1_0\", \"gotfs1_0\", \"hh_inc_1\", \"hh_inc_2\", \"hh_inc_3\", \n",
    "                       \"hh_inc_4\", \"pers_inc_1\", \"pers_inc_2\", \"pers_inc_3\", \"health_1\", \"health_2\", \"health_3\", \"sick_0\", \"typehlth_1\", \"typehlth_2\", \"typehlth_3\", \"typehlth_4\", \n",
    "                       \"typehlth_5\", \"py_cig_0\", \"ev_alchl_0\", \"ev_pot_0\", \"py_pot_0\", \"ev_coke_0\", \"py_coke_0\", \"ev_crack_0\", \"py_crack_0\", \"ev_hroin_0\", \"py_hroin_0\", \"ev_speed_0\", \n",
    "                       \"py_speed_0\", \"py_lsd_0\", \"ev_lsd_0\", \"ev_othdr_0\", \"py_othdr_0\", \"ev_injct_0\", \"drug_trt_0\",  \"mout_trt\", \"mos_trtr_1\", \"mos_trtr_2\", \"mos_trtr_3\", \n",
    "                       \"narrcat_1\", \"narrcat_2\", \"narrcat_3\", \"evarrst1_0\", \"rc_arrst_1\", \"rc_arrst_2\", \"rc_arrst_3\", \"rc_arrst_4\",\n",
    "                       \"marrcat1_1\", \"marrcat1_2\", \"agearcat_1\", \"agearcat_2\", \"agearcat_3\", \"burglary_0\", \"robbery_0\", \n",
    "                       \"assault_0\", \"larceny_0\", \"drugviol_0\", \"othpers_0\", \"othmisc_0\", \"sercr_s1_0\", \"sercr_s3_0\", \"sercr_s4_0\", \"sercr_s5_0\", \"sercr_s6_0\", \"sercr_s7_0\", \"n_guilty\", \n",
    "                       \"guilty2_0\", \"wksjail\", \"pending2_0\", \"copplea2_0\", \"sercr_c1_0\", \"sercr_c2_0\", \"sercr_c3_0\", \"sercr_c5_0\", \"sercr_c6_0\", \"sercr_c7_0\", \"asslt_c2_0\", \"rob_c2_0\", \n",
    "                       \"burgl_c2_0\", \"drviolc2_0\", \"othperc2_0\", \"othmscc2_0\", \"evjail2_0\", \"parole2_0\", \"hear_jc_1\", \"hear_jc_2\", \"hear_jc_3\", \"hear_jc_4\", \"hear_jc_5\", \n",
    "                       \"hear_jc_6\", \"hear_jc_7\", \"from_oa_0\", \"knew_jc_0\", \"info_jc_1\", \"info_jc_2\", \"info_jc_3\", \"info_jc_4\", \"info_jc_5\", \"info_jc_6\", \"info_jc_7\", \"r_home_0\", \"r_comm_0\", \"r_train_0\", \n",
    "                       \"r_crgoal_0\", \"r_getged_0\", \"r_nowork_0\", \"r_other_0\", \"mostimpr_1\", \"mostimpr_2\", \"mostimpr_3\", \"mostimpr_4\", \"mostimpr_5\", \"mostimpr_6\", \"mostimpr_7\", \"othimpr_1\", \n",
    "                       \"othimpr_2\", \"othimpr_3\", \"othimpr_4\", \"othimpr_5\", \"othimpr_6\", \"e_math_0\", \"e_read_0\", \"e_along_0\", \"e_contrl_0\", \"e_esteem_0\", \"e_spcjob_0\", \"e_friend_0\", \"knewcntr_0\", \n",
    "                       \"imprcntr_1\", \"imprcntr_2\", \"imprcntr_3\", \"imprcntr_4\", \"imprcntr_5\", \"imprcntr_6\", \"imprcntr_7\", \"imprcntr_8\", \"knewjob_0\", \"typejobb_1\", \"typejobb_2\", \"typejobb_3\", \n",
    "                       \"typejobb_4\", \"typejobb_5\", \"typejobb_6\", \"typejobb_7\", \"typejobb_8\", \"typejobb_9\", \"typejobb_10\", \"earn_cmp\", \"hadworry_0\", \"typeworr_1\", \"typeworr_2\", \"typeworr_3\", \n",
    "                       \"typeworr_4\", \"typeworr_5\", \"typeworr_6\", \"typeworr_7\", \"typeworr_8\", \"typeworr_9\", \"talk_par_0\", \"imp_par_0\", \"encr_par_0\", \"talk_rel_0\", \"imp_rel_0\", \"encr_rel_0\", \n",
    "                       \"talk_frd_0\", \"imp_frd_0\", \"encr_frd_0\", \"talk_tch_0\", \"imp_tch_0\", \"encr_tch_0\", \"talk_cw_0\", \"imp_cw_0\", \"encr_cw_0\", \"talk_pro_0\", \"imp_pro_0\", \"encr_pro_0\", \n",
    "                       \"talk_chl_0\", \"imp_chl_0\", \"encr_chl_0\", \"talk_adl_0\", \"imp_adl_0\", \"encr_adl_0\", \"encr_jcr_1\", \"encr_jcr_2\", \"encr_jcr_3\", \"howspoke_0\", \"telemode_1\",\"telemode_2\", \n",
    "                       \"placeipc_1\", \"placeipc_2\", \"placeipc_3\", \"placeipc_4\", \"placeipc_5\", \"placeipc_6\", \"talkstay_0\", \"way_stay_0\", \"talkvstf_0\", \"talktold_0\", \"tradwant_0\", \"chncetrd_1\", \n",
    "                       \"chncetrd_2\", \"chncetrd_3\", \"totalhrs\", \"vstf_cat_1\", \"vstf_cat_2\", \"schl52_0\", \"trng1_0\", \"trng2_0\", \"trng52_0\", \"welf1_0\", \"welf3_0\", \"welf4_0\", \"welf5_0\", \"welf6_0\", \"welf7_0\", \n",
    "                       \"welf8_0\", \"welf9_0\", \"welf10_0\", \"welf11_0\", \"welf12_0\", \"currjob_0\", \"nchld\"]"
   ]
  },
  {
   "cell_type": "code",
   "execution_count": 24,
   "metadata": {},
   "outputs": [],
   "source": [
    "dml_data = DoubleMLData(subsample,\n",
    "                        y_col = 'y',\n",
    "                        d_cols = 'd',\n",
    "                        t_col='s',\n",
    "                        x_cols = columns)\n",
    "\n",
    "# Define ML models for nuisance functions\n",
    "learner = RandomForestRegressor(n_estimators = 50, max_features = 'sqrt', max_depth= 5)\n",
    "learner_class = RandomForestRegressor(n_estimators = 50, max_features = 'sqrt', max_depth= 5)\n",
    "ml_mu_sim = clone(learner)\n",
    "ml_pi_sim = clone(learner_class)\n",
    "ml_p_sim = clone(learner_class)"
   ]
  },
  {
   "cell_type": "code",
   "execution_count": 25,
   "metadata": {},
   "outputs": [
    {
     "name": "stdout",
     "output_type": "stream",
     "text": [
      "================== DoubleMLS Object ==================\n",
      "\n",
      "------------------ Data summary      ------------------\n",
      "Outcome variable: y\n",
      "Treatment variable(s): ['d']\n",
      "Covariates: ['jcmsa_1', 'jcmsa_2', 'age', 'race_eth_1', 'race_eth_2', 'race_eth_3', 'ntv_lang_1', 'ntv_lang_2', 'hh14_1', 'hh14_2', 'hh14_3', 'hh14_4', 'welf_kid_1', 'welf_kid_2', 'welf_kid_3', 'm_work14_0', 'occ_moth_1', 'occ_moth_2', 'occ_moth_3', 'occ_moth_4', 'occ_moth_5', 'occ_moth_6', 'occ_fath_1', 'occ_fath_2', 'occ_fath_3', 'occ_fath_5', 'occ_fath_6', 'occ_fath_7', 'marriage_1', 'marriage_2', 'marriage_3', 'haschld_0', 'proplive_1', 'proplive_2', 'pregn_ra_1', 'pregn_ra_2', 'old', 'yng', 'othwith_1', 'othwith_2', 'othwith_3', 'othwith_4', 'ageparnt', 'numb_hh', 'r_head_0', 'hhmemb_1', 'hhmemb_2', 'hhmemb_3', 'hhmemb_4', 'hhmemb_5', 'hous_arr_1', 'hous_arr_2', 'hous_arr_3', 'pay_rent_0', 'hgc', 'hgc_moth', 'hgc_fath', 'hs_d_0', 'ged_d_0', 'voc_d_0', 'oth_deg_0', 'inschool_0', 'any_ed1_0', 'n_ed_cat_1', 'n_ed_cat_2', 'monined', 'reasleft_1', 'reasleft_2', 'reasleft_3', 'reasleft_4', 'reasleft_5', 'reasleft_6', 'reasleft_7', 'reasleft_8', 'rec_ed_1', 'rec_ed_2', 'rec_ed_3', 'rec_ed_4', 'rec_ed_5', 'rec_ed_6', 'rec_ed_7', 'typeed_r_1', 'typeed_r_2', 'typeed_r_3', 'typeed_r_4', 'typeed_r_5', 'typeed_r_6', 'nhrsed_r', 'reased_r_1', 'numbjobs', 'evworkb_0', 'yr_work1_0', 'earn_yr', 'mosinjob', 'rec_job_1', 'rec_job_2', 'rec_job_3', 'rec_job_4', 'occ_r_1', 'occ_r_2', 'occ_r_3', 'occ_r_4', 'occ_r_5', 'occ_r_6', 'occ_r_7', 'occ_r_8', 'hrswk_jr', 'hrwager', 'coop_r_0', 'govprg_r_0', 'leftjobr_0', 'rslftjr_1', 'rslftjr_2', 'rslftjr_3', 'rslftjr_4', 'rslftjr_5', 'rslftjr_6', 'rslftjr_7', 'rslftjr_8', 'mos_afdc', 'mos_othw', 'mos_fs', 'got_anyw_0', 'mos_anyw', 'gotafdc1_0', 'gotothw1_0', 'gotfs1_0', 'hh_inc_1', 'hh_inc_2', 'hh_inc_3', 'hh_inc_4', 'pers_inc_1', 'pers_inc_2', 'pers_inc_3', 'health_1', 'health_2', 'health_3', 'sick_0', 'typehlth_1', 'typehlth_2', 'typehlth_3', 'typehlth_4', 'typehlth_5', 'py_cig_0', 'ev_alchl_0', 'ev_pot_0', 'py_pot_0', 'ev_coke_0', 'py_coke_0', 'ev_crack_0', 'py_crack_0', 'ev_hroin_0', 'py_hroin_0', 'ev_speed_0', 'py_speed_0', 'py_lsd_0', 'ev_lsd_0', 'ev_othdr_0', 'py_othdr_0', 'ev_injct_0', 'drug_trt_0', 'mout_trt', 'mos_trtr_1', 'mos_trtr_2', 'mos_trtr_3', 'narrcat_1', 'narrcat_2', 'narrcat_3', 'evarrst1_0', 'rc_arrst_1', 'rc_arrst_2', 'rc_arrst_3', 'rc_arrst_4', 'marrcat1_1', 'marrcat1_2', 'agearcat_1', 'agearcat_2', 'agearcat_3', 'burglary_0', 'robbery_0', 'assault_0', 'larceny_0', 'drugviol_0', 'othpers_0', 'othmisc_0', 'sercr_s1_0', 'sercr_s3_0', 'sercr_s4_0', 'sercr_s5_0', 'sercr_s6_0', 'sercr_s7_0', 'n_guilty', 'guilty2_0', 'wksjail', 'pending2_0', 'copplea2_0', 'sercr_c1_0', 'sercr_c2_0', 'sercr_c3_0', 'sercr_c5_0', 'sercr_c6_0', 'sercr_c7_0', 'asslt_c2_0', 'rob_c2_0', 'burgl_c2_0', 'drviolc2_0', 'othperc2_0', 'othmscc2_0', 'evjail2_0', 'parole2_0', 'hear_jc_1', 'hear_jc_2', 'hear_jc_3', 'hear_jc_4', 'hear_jc_5', 'hear_jc_6', 'hear_jc_7', 'from_oa_0', 'knew_jc_0', 'info_jc_1', 'info_jc_2', 'info_jc_3', 'info_jc_4', 'info_jc_5', 'info_jc_6', 'info_jc_7', 'r_home_0', 'r_comm_0', 'r_train_0', 'r_crgoal_0', 'r_getged_0', 'r_nowork_0', 'r_other_0', 'mostimpr_1', 'mostimpr_2', 'mostimpr_3', 'mostimpr_4', 'mostimpr_5', 'mostimpr_6', 'mostimpr_7', 'othimpr_1', 'othimpr_2', 'othimpr_3', 'othimpr_4', 'othimpr_5', 'othimpr_6', 'e_math_0', 'e_read_0', 'e_along_0', 'e_contrl_0', 'e_esteem_0', 'e_spcjob_0', 'e_friend_0', 'knewcntr_0', 'imprcntr_1', 'imprcntr_2', 'imprcntr_3', 'imprcntr_4', 'imprcntr_5', 'imprcntr_6', 'imprcntr_7', 'imprcntr_8', 'knewjob_0', 'typejobb_1', 'typejobb_2', 'typejobb_3', 'typejobb_4', 'typejobb_5', 'typejobb_6', 'typejobb_7', 'typejobb_8', 'typejobb_9', 'typejobb_10', 'earn_cmp', 'hadworry_0', 'typeworr_1', 'typeworr_2', 'typeworr_3', 'typeworr_4', 'typeworr_5', 'typeworr_6', 'typeworr_7', 'typeworr_8', 'typeworr_9', 'talk_par_0', 'imp_par_0', 'encr_par_0', 'talk_rel_0', 'imp_rel_0', 'encr_rel_0', 'talk_frd_0', 'imp_frd_0', 'encr_frd_0', 'talk_tch_0', 'imp_tch_0', 'encr_tch_0', 'talk_cw_0', 'imp_cw_0', 'encr_cw_0', 'talk_pro_0', 'imp_pro_0', 'encr_pro_0', 'talk_chl_0', 'imp_chl_0', 'encr_chl_0', 'talk_adl_0', 'imp_adl_0', 'encr_adl_0', 'encr_jcr_1', 'encr_jcr_2', 'encr_jcr_3', 'howspoke_0', 'telemode_1', 'telemode_2', 'placeipc_1', 'placeipc_2', 'placeipc_3', 'placeipc_4', 'placeipc_5', 'placeipc_6', 'talkstay_0', 'way_stay_0', 'talkvstf_0', 'talktold_0', 'tradwant_0', 'chncetrd_1', 'chncetrd_2', 'chncetrd_3', 'totalhrs', 'vstf_cat_1', 'vstf_cat_2', 'schl52_0', 'trng1_0', 'trng2_0', 'trng52_0', 'welf1_0', 'welf3_0', 'welf4_0', 'welf5_0', 'welf6_0', 'welf7_0', 'welf8_0', 'welf9_0', 'welf10_0', 'welf11_0', 'welf12_0', 'currjob_0', 'nchld']\n",
      "Instrument variable(s): None\n",
      "Time variable: s\n",
      "No. Observations: 1030\n",
      "\n",
      "------------------ Score & algorithm ------------------\n",
      "Score function: mar\n",
      "DML algorithm: dml2\n",
      "\n",
      "------------------ Machine learner   ------------------\n",
      "Learner ml_mu_d0: RandomForestRegressor(max_depth=5, max_features='sqrt', n_estimators=50)\n",
      "Learner ml_mu_d1: RandomForestRegressor(max_depth=5, max_features='sqrt', n_estimators=50)\n",
      "Learner ml_pi_d0: RandomForestRegressor(max_depth=5, max_features='sqrt', n_estimators=50)\n",
      "Learner ml_pi_d1: RandomForestRegressor(max_depth=5, max_features='sqrt', n_estimators=50)\n",
      "Learner ml_p_d0: RandomForestRegressor(max_depth=5, max_features='sqrt', n_estimators=50)\n",
      "Learner ml_p_d1: RandomForestRegressor(max_depth=5, max_features='sqrt', n_estimators=50)\n",
      "Out-of-sample Performance:\n",
      "Learner ml_mu_d0 RMSE: [[4.6761854]]\n",
      "Learner ml_mu_d1 RMSE: [[4.76580755]]\n",
      "Learner ml_pi_d0 RMSE: [[0.44980259]]\n",
      "Learner ml_pi_d1 RMSE: [[0.45153137]]\n",
      "Learner ml_p_d0 RMSE: [[0.73375832]]\n",
      "Learner ml_p_d1 RMSE: [[0.39335349]]\n",
      "\n",
      "------------------ Resampling        ------------------\n",
      "No. folds: 3\n",
      "No. repeated sample splits: 1\n",
      "Apply cross-fitting: True\n",
      "\n",
      "------------------ Fit summary       ------------------\n",
      "       coef   std err         t     P>|t|     2.5 %    97.5 %\n",
      "d  0.165621  0.371702  0.445575  0.655904 -0.562902  0.894144\n"
     ]
    }
   ],
   "source": [
    "academic_training = DoubleMLS(dml_data, ml_mu_sim, ml_pi_sim, ml_p_sim)\n",
    "academic_training.fit()\n",
    "\n",
    "print(academic_training)"
   ]
  },
  {
   "cell_type": "markdown",
   "metadata": {},
   "source": [
    "#######################################\n",
    "### EVALUATION OF VOCATIONAL TRAINING ###\n",
    "#######################################"
   ]
  },
  {
   "cell_type": "code",
   "execution_count": 26,
   "metadata": {},
   "outputs": [
    {
     "name": "stdout",
     "output_type": "stream",
     "text": [
      "0\n"
     ]
    },
    {
     "name": "stderr",
     "output_type": "stream",
     "text": [
      "/tmp/ipykernel_293930/3903341877.py:4: SettingWithCopyWarning: \n",
      "A value is trying to be set on a copy of a slice from a DataFrame.\n",
      "Try using .loc[row_indexer,col_indexer] = value instead\n",
      "\n",
      "See the caveats in the documentation: https://pandas.pydata.org/pandas-docs/stable/user_guide/indexing.html#returning-a-view-versus-a-copy\n",
      "  subsample['d'] = np.nan\n"
     ]
    }
   ],
   "source": [
    "subsample = subsampleF[subsampleF['treat'].isin([11, 12, 13, 31, 32, 33])]\n",
    "\n",
    "# Selection into treatment\n",
    "subsample['d'] = np.nan\n",
    "subsample.loc[subsample['treat'].isin([31, 32, 33]), 'd'] = 1\n",
    "subsample.loc[subsample['treat'].isin([11, 12, 13]), 'd'] = 0\n",
    "print(subsample['d'].isna().sum())\n",
    "\n",
    "# Splitting by treatment\n",
    "T1 = subsample[subsample['d'] == 1]\n",
    "T0 = subsample[subsample['d'] == 0]"
   ]
  },
  {
   "cell_type": "code",
   "execution_count": 11,
   "metadata": {},
   "outputs": [
    {
     "name": "stdout",
     "output_type": "stream",
     "text": [
      "Mean (workh52_0) for treatment group:  0.36773428232502964 \n",
      " Standard Deviation (workh52_0) for treatment group:  0.4824747817849973\n",
      "Mean (workh52_0) for control group:  0.335 \n",
      " Standard Deviation (workh52_0) for control group:  0.4731748855991927\n",
      "Mean (hourwag_52):  2.0218169680728666 \n",
      " Standard Deviation (hourwag_52):  3.0606928974866285\n",
      "Mean (workh52_0):  0.36145733461169705 \n",
      " Standard Deviation (workh52_0):  0.4806531313524103\n"
     ]
    }
   ],
   "source": [
    "print(\"Mean (workh52_0) for treatment group: \", T1['workh52_0'].mean(), '\\n',\n",
    "      \"Standard Deviation (workh52_0) for treatment group: \", T1['workh52_0'].std())\n",
    "print(\"Mean (workh52_0) for control group: \", T0['workh52_0'].mean(), '\\n',\n",
    "      \"Standard Deviation (workh52_0) for control group: \", T0['workh52_0'].std())\n",
    "\n",
    "print(\"Mean (hourwag_52): \", subsample['hourwag_52'].mean(), '\\n',\n",
    "      \"Standard Deviation (hourwag_52): \", subsample['hourwag_52'].std())\n",
    "print(\"Mean (workh52_0): \", subsample['workh52_0'].mean(), '\\n',\n",
    "      \"Standard Deviation (workh52_0): \", subsample['workh52_0'].std())"
   ]
  },
  {
   "cell_type": "code",
   "execution_count": 27,
   "metadata": {},
   "outputs": [
    {
     "name": "stdout",
     "output_type": "stream",
     "text": [
      "                            OLS Regression Results                            \n",
      "==============================================================================\n",
      "Dep. Variable:                      s   R-squared:                       0.001\n",
      "Model:                            OLS   Adj. R-squared:                 -0.000\n",
      "Method:                 Least Squares   F-statistic:                    0.7496\n",
      "Date:                Fri, 16 Feb 2024   Prob (F-statistic):              0.387\n",
      "Time:                        12:07:22   Log-Likelihood:                -714.97\n",
      "No. Observations:                1043   AIC:                             1434.\n",
      "Df Residuals:                    1041   BIC:                             1444.\n",
      "Df Model:                           1                                         \n",
      "Covariance Type:            nonrobust                                         \n",
      "==============================================================================\n",
      "                 coef    std err          t      P>|t|      [0.025      0.975]\n",
      "------------------------------------------------------------------------------\n",
      "Intercept      0.3350      0.034      9.855      0.000       0.268       0.402\n",
      "d              0.0327      0.038      0.866      0.387      -0.041       0.107\n",
      "==============================================================================\n",
      "Omnibus:                     5307.077   Durbin-Watson:                   2.003\n",
      "Prob(Omnibus):                  0.000   Jarque-Bera (JB):              178.173\n",
      "Skew:                           0.576   Prob(JB):                     2.04e-39\n",
      "Kurtosis:                       1.335   Cond. No.                         4.36\n",
      "==============================================================================\n",
      "\n",
      "Notes:\n",
      "[1] Standard Errors assume that the covariance matrix of the errors is correctly specified.\n"
     ]
    },
    {
     "name": "stderr",
     "output_type": "stream",
     "text": [
      "/tmp/ipykernel_293930/3858797875.py:2: SettingWithCopyWarning: \n",
      "A value is trying to be set on a copy of a slice from a DataFrame.\n",
      "Try using .loc[row_indexer,col_indexer] = value instead\n",
      "\n",
      "See the caveats in the documentation: https://pandas.pydata.org/pandas-docs/stable/user_guide/indexing.html#returning-a-view-versus-a-copy\n",
      "  subsample['s'] = subsample['workh52_0']\n",
      "/tmp/ipykernel_293930/3858797875.py:3: SettingWithCopyWarning: \n",
      "A value is trying to be set on a copy of a slice from a DataFrame.\n",
      "Try using .loc[row_indexer,col_indexer] = value instead\n",
      "\n",
      "See the caveats in the documentation: https://pandas.pydata.org/pandas-docs/stable/user_guide/indexing.html#returning-a-view-versus-a-copy\n",
      "  subsample['y'] = subsample['hourwag_52']\n"
     ]
    }
   ],
   "source": [
    "# Selection into employment by treatment status\n",
    "subsample['s'] = subsample['workh52_0']\n",
    "subsample['y'] = subsample['hourwag_52']\n",
    "\n",
    "# Selection into employment by treatment - Linear Regression\n",
    "relation = smf.ols('s ~ d', data=subsample).fit()\n",
    "print(relation.summary())"
   ]
  },
  {
   "cell_type": "code",
   "execution_count": 28,
   "metadata": {},
   "outputs": [],
   "source": [
    "# X columns are the same as before\n",
    "dml_data = DoubleMLData(subsample,\n",
    "                        y_col = 'y',\n",
    "                        d_cols = 'd',\n",
    "                        t_col='s',\n",
    "                        x_cols = columns)\n",
    "\n",
    "# Define ML models for nuisance functions\n",
    "learner = RandomForestRegressor(n_estimators = 50, max_features = 'sqrt', max_depth= 5)\n",
    "learner_class = RandomForestRegressor(n_estimators = 50, max_features = 'sqrt', max_depth= 5)\n",
    "ml_mu_sim = clone(learner)\n",
    "ml_pi_sim = clone(learner_class)\n",
    "ml_p_sim = clone(learner_class)"
   ]
  },
  {
   "cell_type": "code",
   "execution_count": 29,
   "metadata": {},
   "outputs": [
    {
     "name": "stdout",
     "output_type": "stream",
     "text": [
      "================== DoubleMLS Object ==================\n",
      "\n",
      "------------------ Data summary      ------------------\n",
      "Outcome variable: y\n",
      "Treatment variable(s): ['d']\n",
      "Covariates: ['jcmsa_1', 'jcmsa_2', 'age', 'race_eth_1', 'race_eth_2', 'race_eth_3', 'ntv_lang_1', 'ntv_lang_2', 'hh14_1', 'hh14_2', 'hh14_3', 'hh14_4', 'welf_kid_1', 'welf_kid_2', 'welf_kid_3', 'm_work14_0', 'occ_moth_1', 'occ_moth_2', 'occ_moth_3', 'occ_moth_4', 'occ_moth_5', 'occ_moth_6', 'occ_fath_1', 'occ_fath_2', 'occ_fath_3', 'occ_fath_5', 'occ_fath_6', 'occ_fath_7', 'marriage_1', 'marriage_2', 'marriage_3', 'haschld_0', 'proplive_1', 'proplive_2', 'pregn_ra_1', 'pregn_ra_2', 'old', 'yng', 'othwith_1', 'othwith_2', 'othwith_3', 'othwith_4', 'ageparnt', 'numb_hh', 'r_head_0', 'hhmemb_1', 'hhmemb_2', 'hhmemb_3', 'hhmemb_4', 'hhmemb_5', 'hous_arr_1', 'hous_arr_2', 'hous_arr_3', 'pay_rent_0', 'hgc', 'hgc_moth', 'hgc_fath', 'hs_d_0', 'ged_d_0', 'voc_d_0', 'oth_deg_0', 'inschool_0', 'any_ed1_0', 'n_ed_cat_1', 'n_ed_cat_2', 'monined', 'reasleft_1', 'reasleft_2', 'reasleft_3', 'reasleft_4', 'reasleft_5', 'reasleft_6', 'reasleft_7', 'reasleft_8', 'rec_ed_1', 'rec_ed_2', 'rec_ed_3', 'rec_ed_4', 'rec_ed_5', 'rec_ed_6', 'rec_ed_7', 'typeed_r_1', 'typeed_r_2', 'typeed_r_3', 'typeed_r_4', 'typeed_r_5', 'typeed_r_6', 'nhrsed_r', 'reased_r_1', 'numbjobs', 'evworkb_0', 'yr_work1_0', 'earn_yr', 'mosinjob', 'rec_job_1', 'rec_job_2', 'rec_job_3', 'rec_job_4', 'occ_r_1', 'occ_r_2', 'occ_r_3', 'occ_r_4', 'occ_r_5', 'occ_r_6', 'occ_r_7', 'occ_r_8', 'hrswk_jr', 'hrwager', 'coop_r_0', 'govprg_r_0', 'leftjobr_0', 'rslftjr_1', 'rslftjr_2', 'rslftjr_3', 'rslftjr_4', 'rslftjr_5', 'rslftjr_6', 'rslftjr_7', 'rslftjr_8', 'mos_afdc', 'mos_othw', 'mos_fs', 'got_anyw_0', 'mos_anyw', 'gotafdc1_0', 'gotothw1_0', 'gotfs1_0', 'hh_inc_1', 'hh_inc_2', 'hh_inc_3', 'hh_inc_4', 'pers_inc_1', 'pers_inc_2', 'pers_inc_3', 'health_1', 'health_2', 'health_3', 'sick_0', 'typehlth_1', 'typehlth_2', 'typehlth_3', 'typehlth_4', 'typehlth_5', 'py_cig_0', 'ev_alchl_0', 'ev_pot_0', 'py_pot_0', 'ev_coke_0', 'py_coke_0', 'ev_crack_0', 'py_crack_0', 'ev_hroin_0', 'py_hroin_0', 'ev_speed_0', 'py_speed_0', 'py_lsd_0', 'ev_lsd_0', 'ev_othdr_0', 'py_othdr_0', 'ev_injct_0', 'drug_trt_0', 'mout_trt', 'mos_trtr_1', 'mos_trtr_2', 'mos_trtr_3', 'narrcat_1', 'narrcat_2', 'narrcat_3', 'evarrst1_0', 'rc_arrst_1', 'rc_arrst_2', 'rc_arrst_3', 'rc_arrst_4', 'marrcat1_1', 'marrcat1_2', 'agearcat_1', 'agearcat_2', 'agearcat_3', 'burglary_0', 'robbery_0', 'assault_0', 'larceny_0', 'drugviol_0', 'othpers_0', 'othmisc_0', 'sercr_s1_0', 'sercr_s3_0', 'sercr_s4_0', 'sercr_s5_0', 'sercr_s6_0', 'sercr_s7_0', 'n_guilty', 'guilty2_0', 'wksjail', 'pending2_0', 'copplea2_0', 'sercr_c1_0', 'sercr_c2_0', 'sercr_c3_0', 'sercr_c5_0', 'sercr_c6_0', 'sercr_c7_0', 'asslt_c2_0', 'rob_c2_0', 'burgl_c2_0', 'drviolc2_0', 'othperc2_0', 'othmscc2_0', 'evjail2_0', 'parole2_0', 'hear_jc_1', 'hear_jc_2', 'hear_jc_3', 'hear_jc_4', 'hear_jc_5', 'hear_jc_6', 'hear_jc_7', 'from_oa_0', 'knew_jc_0', 'info_jc_1', 'info_jc_2', 'info_jc_3', 'info_jc_4', 'info_jc_5', 'info_jc_6', 'info_jc_7', 'r_home_0', 'r_comm_0', 'r_train_0', 'r_crgoal_0', 'r_getged_0', 'r_nowork_0', 'r_other_0', 'mostimpr_1', 'mostimpr_2', 'mostimpr_3', 'mostimpr_4', 'mostimpr_5', 'mostimpr_6', 'mostimpr_7', 'othimpr_1', 'othimpr_2', 'othimpr_3', 'othimpr_4', 'othimpr_5', 'othimpr_6', 'e_math_0', 'e_read_0', 'e_along_0', 'e_contrl_0', 'e_esteem_0', 'e_spcjob_0', 'e_friend_0', 'knewcntr_0', 'imprcntr_1', 'imprcntr_2', 'imprcntr_3', 'imprcntr_4', 'imprcntr_5', 'imprcntr_6', 'imprcntr_7', 'imprcntr_8', 'knewjob_0', 'typejobb_1', 'typejobb_2', 'typejobb_3', 'typejobb_4', 'typejobb_5', 'typejobb_6', 'typejobb_7', 'typejobb_8', 'typejobb_9', 'typejobb_10', 'earn_cmp', 'hadworry_0', 'typeworr_1', 'typeworr_2', 'typeworr_3', 'typeworr_4', 'typeworr_5', 'typeworr_6', 'typeworr_7', 'typeworr_8', 'typeworr_9', 'talk_par_0', 'imp_par_0', 'encr_par_0', 'talk_rel_0', 'imp_rel_0', 'encr_rel_0', 'talk_frd_0', 'imp_frd_0', 'encr_frd_0', 'talk_tch_0', 'imp_tch_0', 'encr_tch_0', 'talk_cw_0', 'imp_cw_0', 'encr_cw_0', 'talk_pro_0', 'imp_pro_0', 'encr_pro_0', 'talk_chl_0', 'imp_chl_0', 'encr_chl_0', 'talk_adl_0', 'imp_adl_0', 'encr_adl_0', 'encr_jcr_1', 'encr_jcr_2', 'encr_jcr_3', 'howspoke_0', 'telemode_1', 'telemode_2', 'placeipc_1', 'placeipc_2', 'placeipc_3', 'placeipc_4', 'placeipc_5', 'placeipc_6', 'talkstay_0', 'way_stay_0', 'talkvstf_0', 'talktold_0', 'tradwant_0', 'chncetrd_1', 'chncetrd_2', 'chncetrd_3', 'totalhrs', 'vstf_cat_1', 'vstf_cat_2', 'schl52_0', 'trng1_0', 'trng2_0', 'trng52_0', 'welf1_0', 'welf3_0', 'welf4_0', 'welf5_0', 'welf6_0', 'welf7_0', 'welf8_0', 'welf9_0', 'welf10_0', 'welf11_0', 'welf12_0', 'currjob_0', 'nchld']\n",
      "Instrument variable(s): None\n",
      "Time variable: s\n",
      "No. Observations: 1043\n",
      "\n",
      "------------------ Score & algorithm ------------------\n",
      "Score function: mar\n",
      "DML algorithm: dml2\n",
      "\n",
      "------------------ Machine learner   ------------------\n",
      "Learner ml_mu_d0: RandomForestRegressor(max_depth=5, max_features='sqrt', n_estimators=50)\n",
      "Learner ml_mu_d1: RandomForestRegressor(max_depth=5, max_features='sqrt', n_estimators=50)\n",
      "Learner ml_pi_d0: RandomForestRegressor(max_depth=5, max_features='sqrt', n_estimators=50)\n",
      "Learner ml_pi_d1: RandomForestRegressor(max_depth=5, max_features='sqrt', n_estimators=50)\n",
      "Learner ml_p_d0: RandomForestRegressor(max_depth=5, max_features='sqrt', n_estimators=50)\n",
      "Learner ml_p_d1: RandomForestRegressor(max_depth=5, max_features='sqrt', n_estimators=50)\n",
      "Out-of-sample Performance:\n",
      "Learner ml_mu_d0 RMSE: [[4.4788915]]\n",
      "Learner ml_mu_d1 RMSE: [[4.66576782]]\n",
      "Learner ml_pi_d0 RMSE: [[0.46924651]]\n",
      "Learner ml_pi_d1 RMSE: [[0.46788208]]\n",
      "Learner ml_p_d0 RMSE: [[0.73697002]]\n",
      "Learner ml_p_d1 RMSE: [[0.39315676]]\n",
      "\n",
      "------------------ Resampling        ------------------\n",
      "No. folds: 3\n",
      "No. repeated sample splits: 1\n",
      "Apply cross-fitting: True\n",
      "\n",
      "------------------ Fit summary       ------------------\n",
      "      coef   std err         t     P>|t|     2.5 %    97.5 %\n",
      "d  0.35159  0.320394  1.097366  0.272481 -0.276372  0.979551\n"
     ]
    }
   ],
   "source": [
    "vocational_training = DoubleMLS(dml_data, ml_mu_sim, ml_pi_sim, ml_p_sim)\n",
    "vocational_training.fit()\n",
    "\n",
    "print(vocational_training)"
   ]
  }
 ],
 "metadata": {
  "kernelspec": {
   "display_name": "Python 3",
   "language": "python",
   "name": "python3"
  },
  "language_info": {
   "codemirror_mode": {
    "name": "ipython",
    "version": 3
   },
   "file_extension": ".py",
   "mimetype": "text/x-python",
   "name": "python",
   "nbconvert_exporter": "python",
   "pygments_lexer": "ipython3",
   "version": "3.10.12"
  }
 },
 "nbformat": 4,
 "nbformat_minor": 2
}
