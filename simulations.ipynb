{
 "cells": [
  {
   "cell_type": "markdown",
   "metadata": {},
   "source": [
    "# Simulation study"
   ]
  },
  {
   "cell_type": "code",
   "execution_count": 1,
   "metadata": {},
   "outputs": [],
   "source": [
    "import numpy as np\n",
    "from sklearn.ensemble import RandomForestClassifier, GradientBoostingClassifier\n",
    "from sklearn.base import clone\n",
    "from doubleml import DoubleMLData\n",
    "from doubleml.double_ml_selection import DoubleMLSSM\n",
    "\n",
    "from sklearn.linear_model import LassoCV, LogisticRegressionCV\n",
    "from doubleml.double_ml_data import DoubleMLData\n",
    "from tqdm import tqdm\n",
    "import seaborn as sns\n",
    "import matplotlib.pyplot as plt\n",
    "\n",
    "from doubleml.datasets import make_ssm_data"
   ]
  },
  {
   "cell_type": "code",
   "execution_count": 4,
   "metadata": {},
   "outputs": [],
   "source": [
    "def simulate_data(n, p):\n",
    "    s = 2  # number of covariates that are confounders\n",
    "    sigma = np.array([[1, 0.5], [0.5, 1]])\n",
    "    e = np.random.multivariate_normal(mean=[0, 0], cov=sigma, size=n).T\n",
    "    X = np.random.randn(n, p)  # covariate matrix\n",
    "    beta = np.hstack((np.repeat(0.25, s), np.repeat(0, p - s)))  # Coefficients determining the degree of confounding\n",
    "    d = np.where(np.dot(X, beta) + np.random.randn(n) > 0, 1, 0)  # Treatment equation\n",
    "    z = np.random.randn(n)\n",
    "    s = np.where(np.dot(X, beta) + 0.25 * d + z + e[0] > 0, 1, 0)  # Selection equation\n",
    "    y = np.dot(X, beta) + 0.5 * d + e[1]  # Outcome equation\n",
    "    y[s == 0] = 0\n",
    "\n",
    "    return X, y, d, s, z\n",
    "\n",
    "\n",
    "def get_coefs(n, p, score, learner, learner_class):\n",
    "    X, y, d, s, z = simulate_data(n, p)\n",
    "\n",
    "    if score == 'mar':\n",
    "        simul_data = DoubleMLData.from_arrays(X, y, d, z=None, t=s)\n",
    "    else:\n",
    "        simul_data = DoubleMLData.from_arrays(X, y, d, z=z, t=s)\n",
    "\n",
    "    ml_mu_sim = clone(learner)\n",
    "    ml_pi_sim = clone(learner_class)\n",
    "    ml_p_sim = clone(learner_class)\n",
    "\n",
    "    obj_dml_sim = DoubleMLSSM(simul_data, ml_mu_sim, ml_pi_sim, ml_p_sim, score=score)\n",
    "    obj_dml_sim.fit()\n",
    "\n",
    "    return obj_dml_sim.all_coef[0][0]\n"
   ]
  },
  {
   "cell_type": "markdown",
   "metadata": {},
   "source": [
    "### Missingness at random (MAR)"
   ]
  },
  {
   "cell_type": "code",
   "execution_count": 5,
   "metadata": {},
   "outputs": [
    {
     "name": "stdout",
     "output_type": "stream",
     "text": [
      "================== DoubleMLSSM Object ==================\n",
      "\n",
      "------------------ Data summary      ------------------\n",
      "Outcome variable: y\n",
      "Treatment variable(s): ['d']\n",
      "Covariates: ['X1', 'X2', 'X3', 'X4', 'X5', 'X6', 'X7', 'X8', 'X9', 'X10', 'X11', 'X12', 'X13', 'X14', 'X15', 'X16', 'X17', 'X18', 'X19', 'X20', 'X21', 'X22', 'X23', 'X24', 'X25', 'X26', 'X27', 'X28', 'X29', 'X30', 'X31', 'X32', 'X33', 'X34', 'X35', 'X36', 'X37', 'X38', 'X39', 'X40', 'X41', 'X42', 'X43', 'X44', 'X45', 'X46', 'X47', 'X48', 'X49', 'X50', 'X51', 'X52', 'X53', 'X54', 'X55', 'X56', 'X57', 'X58', 'X59', 'X60', 'X61', 'X62', 'X63', 'X64', 'X65', 'X66', 'X67', 'X68', 'X69', 'X70', 'X71', 'X72', 'X73', 'X74', 'X75', 'X76', 'X77', 'X78', 'X79', 'X80', 'X81', 'X82', 'X83', 'X84', 'X85', 'X86', 'X87', 'X88', 'X89', 'X90', 'X91', 'X92', 'X93', 'X94', 'X95', 'X96', 'X97', 'X98', 'X99', 'X100']\n",
      "Instrument variable(s): None\n",
      "Time variable: t\n",
      "No. Observations: 2000\n",
      "\n",
      "------------------ Score & algorithm ------------------\n",
      "Score function: mar\n",
      "DML algorithm: dml2\n",
      "\n",
      "------------------ Machine learner   ------------------\n",
      "Learner ml_mu: LassoCV()\n",
      "Learner ml_pi: RandomForestClassifier()\n",
      "Learner ml_p: RandomForestClassifier()\n",
      "Out-of-sample Performance:\n",
      "Learner ml_mu_d0 RMSE: [[0.78702907]]\n",
      "Learner ml_mu_d1 RMSE: [[0.9442102]]\n",
      "Learner ml_pi_d0 RMSE: [[0.49283456]]\n",
      "Learner ml_pi_d1 RMSE: [[0.49445065]]\n",
      "Learner ml_p_d0 RMSE: [[0.5163188]]\n",
      "Learner ml_p_d1 RMSE: [[0.49418509]]\n",
      "\n",
      "------------------ Resampling        ------------------\n",
      "No. folds: 3\n",
      "No. repeated sample splits: 1\n",
      "Apply cross-fitting: True\n",
      "\n",
      "------------------ Fit summary       ------------------\n",
      "       coef   std err          t         P>|t|     2.5 %    97.5 %\n",
      "d  0.577265  0.029879  19.320235  3.629960e-83  0.518703  0.635826\n"
     ]
    }
   ],
   "source": [
    "X, y, d, s, z = simulate_data(2000, 100)\n",
    "simul_data = DoubleMLData.from_arrays(X, y, d, z=None, t=s)\n",
    "\n",
    "learner = LassoCV()\n",
    "learner_class = RandomForestClassifier()\n",
    "ml_mu_sim = clone(learner)\n",
    "ml_pi_sim = clone(learner_class)\n",
    "ml_p_sim = clone(learner_class)\n",
    "\n",
    "obj_dml_sim = DoubleMLSSM(simul_data, ml_mu_sim, ml_pi_sim, ml_p_sim, score='mar')\n",
    "obj_dml_sim.fit()\n",
    "print(obj_dml_sim)"
   ]
  },
  {
   "cell_type": "markdown",
   "metadata": {},
   "source": [
    "### Nonignorable nonresponse"
   ]
  },
  {
   "cell_type": "code",
   "execution_count": 6,
   "metadata": {},
   "outputs": [
    {
     "name": "stdout",
     "output_type": "stream",
     "text": [
      "================== DoubleMLSSM Object ==================\n",
      "\n",
      "------------------ Data summary      ------------------\n",
      "Outcome variable: y\n",
      "Treatment variable(s): ['d']\n",
      "Covariates: ['X1', 'X2', 'X3', 'X4', 'X5', 'X6', 'X7', 'X8', 'X9', 'X10', 'X11', 'X12', 'X13', 'X14', 'X15', 'X16', 'X17', 'X18', 'X19', 'X20', 'X21', 'X22', 'X23', 'X24', 'X25', 'X26', 'X27', 'X28', 'X29', 'X30', 'X31', 'X32', 'X33', 'X34', 'X35', 'X36', 'X37', 'X38', 'X39', 'X40', 'X41', 'X42', 'X43', 'X44', 'X45', 'X46', 'X47', 'X48', 'X49', 'X50', 'X51', 'X52', 'X53', 'X54', 'X55', 'X56', 'X57', 'X58', 'X59', 'X60', 'X61', 'X62', 'X63', 'X64', 'X65', 'X66', 'X67', 'X68', 'X69', 'X70', 'X71', 'X72', 'X73', 'X74', 'X75', 'X76', 'X77', 'X78', 'X79', 'X80', 'X81', 'X82', 'X83', 'X84', 'X85', 'X86', 'X87', 'X88', 'X89', 'X90', 'X91', 'X92', 'X93', 'X94', 'X95', 'X96', 'X97', 'X98', 'X99', 'X100']\n",
      "Instrument variable(s): ['z']\n",
      "Time variable: t\n",
      "No. Observations: 2000\n",
      "\n",
      "------------------ Score & algorithm ------------------\n",
      "Score function: nonignorable\n",
      "DML algorithm: dml2\n",
      "\n",
      "------------------ Machine learner   ------------------\n",
      "Learner ml_mu: LassoCV()\n",
      "Learner ml_pi: RandomForestClassifier()\n",
      "Learner ml_p: RandomForestClassifier()\n",
      "Out-of-sample Performance:\n",
      "Learner ml_mu_d0 RMSE: [[0.80128717]]\n",
      "Learner ml_mu_d1 RMSE: [[1.0218003]]\n",
      "Learner ml_pi_d0 RMSE: [[0.44262586]]\n",
      "Learner ml_pi_d1 RMSE: [[0.44387425]]\n",
      "Learner ml_p_d0 RMSE: [[0.51646563]]\n",
      "Learner ml_p_d1 RMSE: [[0.49991394]]\n",
      "\n",
      "------------------ Resampling        ------------------\n",
      "No. folds: 3\n",
      "No. repeated sample splits: 1\n",
      "Apply cross-fitting: True\n",
      "\n",
      "------------------ Fit summary       ------------------\n",
      "       coef   std err          t         P>|t|     2.5 %    97.5 %\n",
      "d  0.631567  0.030466  20.730475  1.839658e-95  0.571855  0.691278\n"
     ]
    }
   ],
   "source": [
    "simul_data = DoubleMLData.from_arrays(X, y, d, z=z, t=s)\n",
    "\n",
    "learner = LassoCV()\n",
    "learner_class = RandomForestClassifier()\n",
    "ml_mu_sim = clone(learner)\n",
    "ml_pi_sim = clone(learner_class)\n",
    "ml_p_sim = clone(learner_class)\n",
    "\n",
    "obj_dml_sim = DoubleMLSSM(simul_data, ml_mu_sim, ml_pi_sim, ml_p_sim, score='nonignorable')\n",
    "obj_dml_sim.fit()\n",
    "print(obj_dml_sim)"
   ]
  },
  {
   "cell_type": "markdown",
   "metadata": {},
   "source": [
    "### Multiple simulations"
   ]
  },
  {
   "cell_type": "code",
   "execution_count": 9,
   "metadata": {},
   "outputs": [
    {
     "name": "stderr",
     "output_type": "stream",
     "text": [
      "100%|██████████| 1000/1000 [39:26<00:00,  2.37s/it]"
     ]
    },
    {
     "name": "stdout",
     "output_type": "stream",
     "text": [
      "Average ATE estimate:  0.5084606008383383\n",
      "Median ATE estimate:  0.5090989223793609\n",
      "Standard deviation of ATE estimate:  0.06530520319865513\n"
     ]
    },
    {
     "name": "stderr",
     "output_type": "stream",
     "text": [
      "\n"
     ]
    },
    {
     "data": {
      "text/plain": [
       "<AxesSubplot: xlabel='ATE estimate', ylabel='Count'>"
      ]
     },
     "execution_count": 9,
     "metadata": {},
     "output_type": "execute_result"
    },
    {
     "data": {
      "image/png": "[encoded data removed]",
      "text/plain": [
       "<Figure size 640x480 with 1 Axes>"
      ]
     },
     "metadata": {},
     "output_type": "display_data"
    }
   ],
   "source": [
    "learner = LassoCV()\n",
    "learner_class = LogisticRegressionCV()\n",
    "params = []\n",
    "\n",
    "for i in tqdm(range(1000)):\n",
    "    params.append(get_coefs(2000, 100, 'mar', learner, learner_class))\n",
    "\n",
    "print(\"Average ATE estimate: \", np.mean(params))\n",
    "print(\"Median ATE estimate: \", np.median(params))\n",
    "print(\"Standard deviation of ATE estimate: \", np.std(params))\n",
    "plt.xlabel('ATE estimate')\n",
    "sns.histplot(params, kde=True)"
   ]
  },
  {
   "cell_type": "code",
   "execution_count": null,
   "metadata": {},
   "outputs": [],
   "source": [
    "for i in tqdm(range(1000)):\n",
    "    params.append(get_coefs(2000, 100, 'nonignorable', learner, learner_class))\n",
    "\n",
    "print(\"Average ATE estimate: \", np.mean(params))\n",
    "print(\"Median ATE estimate: \", np.median(params))\n",
    "print(\"Standard deviation of ATE estimate: \", np.std(params))\n",
    "plt.xlabel('ATE estimate')\n",
    "sns.histplot(params, kde=True)"
   ]
  },
  {
   "cell_type": "code",
   "execution_count": 2,
   "metadata": {},
   "outputs": [],
   "source": [
    "from doubleml.datasets import make_ssm_data\n",
    "dml_data = make_ssm_data(mar=False)"
   ]
  },
  {
   "cell_type": "code",
   "execution_count": 3,
   "metadata": {},
   "outputs": [
    {
     "name": "stderr",
     "output_type": "stream",
     "text": [
      "/media/myska/7C0C98290C97DC88/Skola/bp/doubleml-for-py/doubleml/double_ml_selection.py:208: UserWarning: Incompatible data. z have been set as instrumental variable(s). You are estimating the effect under the assumption of data missing at random.                              Instrumental variables will not be used in estimation.\n",
      "  warnings.warn('Incompatible data. ' +\n"
     ]
    },
    {
     "name": "stdout",
     "output_type": "stream",
     "text": [
      "================== DoubleMLSSM Object ==================\n",
      "\n",
      "------------------ Data summary      ------------------\n",
      "Outcome variable: y\n",
      "Treatment variable(s): ['d']\n",
      "Covariates: ['X1', 'X2', 'X3', 'X4', 'X5', 'X6', 'X7', 'X8', 'X9', 'X10', 'X11', 'X12', 'X13', 'X14', 'X15', 'X16', 'X17', 'X18', 'X19', 'X20', 'X21', 'X22', 'X23', 'X24', 'X25', 'X26', 'X27', 'X28', 'X29', 'X30', 'X31', 'X32', 'X33', 'X34', 'X35', 'X36', 'X37', 'X38', 'X39', 'X40', 'X41', 'X42', 'X43', 'X44', 'X45', 'X46', 'X47', 'X48', 'X49', 'X50', 'X51', 'X52', 'X53', 'X54', 'X55', 'X56', 'X57', 'X58', 'X59', 'X60', 'X61', 'X62', 'X63', 'X64', 'X65', 'X66', 'X67', 'X68', 'X69', 'X70', 'X71', 'X72', 'X73', 'X74', 'X75', 'X76', 'X77', 'X78', 'X79', 'X80', 'X81', 'X82', 'X83', 'X84', 'X85', 'X86', 'X87', 'X88', 'X89', 'X90', 'X91', 'X92', 'X93', 'X94', 'X95', 'X96', 'X97', 'X98', 'X99', 'X100']\n",
      "Instrument variable(s): ['z']\n",
      "Time variable: s\n",
      "No. Observations: 8000\n",
      "\n",
      "------------------ Score & algorithm ------------------\n",
      "Score function: mar\n",
      "DML algorithm: dml2\n",
      "\n",
      "------------------ Machine learner   ------------------\n",
      "Learner ml_mu: LassoCV()\n",
      "Learner ml_pi: RandomForestClassifier()\n",
      "Learner ml_p: RandomForestClassifier()\n",
      "Out-of-sample Performance:\n",
      "Learner ml_mu_d0 RMSE: [[0.95424005]]\n",
      "Learner ml_mu_d1 RMSE: [[1.13919595]]\n",
      "Learner ml_pi_d0 RMSE: [[0.42063544]]\n",
      "Learner ml_pi_d1 RMSE: [[0.42123993]]\n",
      "Learner ml_p_d0 RMSE: [[0.54989461]]\n",
      "Learner ml_p_d1 RMSE: [[0.47737865]]\n",
      "\n",
      "------------------ Resampling        ------------------\n",
      "No. folds: 3\n",
      "No. repeated sample splits: 1\n",
      "Apply cross-fitting: True\n",
      "\n",
      "------------------ Fit summary       ------------------\n",
      "       coef  std err          t  P>|t|     2.5 %    97.5 %\n",
      "d  1.092697  0.01726  63.308283    0.0  1.058868  1.126526\n"
     ]
    }
   ],
   "source": [
    "learner = LassoCV()\n",
    "learner_class = RandomForestClassifier()\n",
    "ml_mu_sim = clone(learner)\n",
    "ml_pi_sim = clone(learner_class)\n",
    "ml_p_sim = clone(learner_class)\n",
    "\n",
    "obj_dml_sim = DoubleMLSSM(dml_data, ml_mu_sim, ml_pi_sim, ml_p_sim, score='mar')\n",
    "obj_dml_sim.fit()\n",
    "print(obj_dml_sim)"
   ]
  }
 ],
 "metadata": {
  "kernelspec": {
   "display_name": "Python 3",
   "language": "python",
   "name": "python3"
  },
  "language_info": {
   "codemirror_mode": {
    "name": "ipython",
    "version": 3
   },
   "file_extension": ".py",
   "mimetype": "text/x-python",
   "name": "python",
   "nbconvert_exporter": "python",
   "pygments_lexer": "ipython3",
   "version": "3.10.12"
  }
 },
 "nbformat": 4,
 "nbformat_minor": 2
}
